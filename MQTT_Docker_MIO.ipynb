{
  "cells": [
    {
      "cell_type": "markdown",
      "metadata": {
        "id": "view-in-github",
        "colab_type": "text"
      },
      "source": [
        "<a href=\"https://colab.research.google.com/github/DS-17-Projects-Tracking/test/blob/main/MQTT_Docker_MIO.ipynb\" target=\"_parent\"><img src=\"https://colab.research.google.com/assets/colab-badge.svg\" alt=\"Open In Colab\"/></a>"
      ]
    },
    {
      "cell_type": "markdown",
      "source": [
        "# Running MQTT in Docker\n",
        "\n",
        "Veiw [MQTT in Docker]( https://github.com/rwcitek/bash.scripting.codespaces/tree/main/mqtt/most.in.one ) and run in a CodeSpace or other Docker environment."
      ],
      "metadata": {
        "id": "7ijRX_tTHGHw"
      }
    },
    {
      "cell_type": "code",
      "source": [],
      "metadata": {
        "id": "FDJ5KN9hHNzW"
      },
      "execution_count": null,
      "outputs": []
    }
  ],
  "metadata": {
    "colab": {
      "provenance": [],
      "include_colab_link": true
    },
    "kernelspec": {
      "display_name": "Python 3",
      "name": "python3"
    }
  },
  "nbformat": 4,
  "nbformat_minor": 0
}