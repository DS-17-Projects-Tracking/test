{
  "nbformat": 4,
  "nbformat_minor": 0,
  "metadata": {
    "colab": {
      "provenance": [],
      "authorship_tag": "ABX9TyMTfWKwjdIMvZH3wEVkENjC",
      "include_colab_link": true
    },
    "kernelspec": {
      "name": "python3",
      "display_name": "Python 3"
    },
    "language_info": {
      "name": "python"
    }
  },
  "cells": [
    {
      "cell_type": "markdown",
      "metadata": {
        "id": "view-in-github",
        "colab_type": "text"
      },
      "source": [
        "<a href=\"https://colab.research.google.com/github/DS-17-Projects-Tracking/test/blob/main/math_symbols.ipynb\" target=\"_parent\"><img src=\"https://colab.research.google.com/assets/colab-badge.svg\" alt=\"Open In Colab\"/></a>"
      ]
    },
    {
      "cell_type": "markdown",
      "source": [
        "| LaTeX Symbol     | NumPy Equivalent          | Example                     |\n",
        "|------------------|---------------------------|-----------------------------|\n",
        "| $ \\Sigma $       | `numpy.sum()`             | `numpy.sum([1, 2, 3])`      |\n",
        "| $ \\Pi $          | `numpy.prod()`            | `numpy.prod([1, 2, 3])`     |\n",
        "| $ \\sigma $       | `numpy.std()`             | `numpy.std([1, 2, 3])`      |\n",
        "| $ \\pi $          | `numpy.pi`                | `numpy.pi`                  |\n",
        "| $ \\mu $          | `numpy.mean()`            | `numpy.mean([1, 2, 3])`     |\n",
        "| $ e $            | `numpy.e`                 | `numpy.e`                   |\n",
        "| $ \\int $         | `scipy.integrate.quad()`  | `scipy.integrate.quad(lambda x: x**2, 0, 1)` |\n",
        "| $ \\Delta $       | `numpy.diff()`            | `numpy.diff([1, 2, 4, 7])`  |\n",
        "| $ \\nabla $       | `numpy.gradient()`          | `numpy.gradient([1, 2, 4, 7])`          |\n",
        "| $ \\sqrt{} $      | `numpy.sqrt()`              | `numpy.sqrt(16)`                        |\n",
        "| $ \\log $         | `numpy.log()`               | `numpy.log(10)`                         |\n",
        "| $ \\log_{10} $    | `numpy.log10()`             | `numpy.log10(100)`                      |\n",
        "| $ \\exp $         | `numpy.exp()`               | `numpy.exp(2)`                          |\n",
        "| $ \\sin $         | `numpy.sin()`               | `numpy.sin(numpy.pi/2)`                 |\n",
        "| $ \\cos $         | `numpy.cos()`               | `numpy.cos(0)`                          |\n",
        "| $ \\tan $         | `numpy.tan()`               | `numpy.tan(numpy.pi/4)`                 |\n",
        "| $ \\theta $       | Variable (no specific func) | `theta = numpy.pi / 4`                  |\n",
        "| $ |x| $          | `numpy.abs()`               | `numpy.abs(-5)`                         |\n",
        "| $ \\max $         | `numpy.max()`               | `numpy.max([1, 2, 3])`                  |\n",
        "| $ \\min $         | `numpy.min()`               | `numpy.min([1, 2, 3])`                  |\n",
        "| $ \\gcd $         | `math.gcd()`                | `math.gcd(48, 18)`                      |\n",
        "| $ \\binom{n}{k} $ | `scipy.special.comb()`      | `scipy.special.comb(5, 2)`              |\n",
        "| $ \\lfloor x \\rfloor $ | `numpy.floor()`         | `numpy.floor(3.7)`                      |\n",
        "| $ \\lceil x \\rceil $ | `numpy.ceil()`           | `numpy.ceil(3.3)`                       |\n",
        "| $ \\arcsin $      | `numpy.arcsin()`            | `numpy.arcsin(1)`                       |\n",
        "| $ \\arccos $      | `numpy.arccos()`            | `numpy.arccos(1)`                       |\n",
        "| $ \\arctan $      | `numpy.arctan()`            | `numpy.arctan(1)`                       |\n",
        "| $  \\sqrt[n]{x}  $ | `numpy.power(x, 1/n)`                       | `numpy.power(1024, 1/10)` |\n",
        "| $  \\vec{v}  $   | `np.array([x, y, z])`           | `np.array([1, 2, 3])`|\n",
        "| $  \\mathbf{v}  $ | `np.array([x, y, z])`           | `np.array([1, 2, 3])`|\n",
        "\n",
        "\n",
        "\n",
        "\n",
        "\n",
        "\n",
        "\n",
        "\n"
      ],
      "metadata": {
        "id": "j3xskcfKOZsn"
      }
    },
    {
      "cell_type": "code",
      "source": [],
      "metadata": {
        "id": "O_Xi_AzOVeA7"
      },
      "execution_count": null,
      "outputs": []
    }
  ]
}